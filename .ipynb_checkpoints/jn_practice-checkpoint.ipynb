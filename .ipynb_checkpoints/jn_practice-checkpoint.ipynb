{
 "cells": [
  {
   "cell_type": "code",
   "execution_count": null,
   "metadata": {},
   "outputs": [],
   "source": [
    "import matplotlib.pyplot  as plt                                                \n",
    "import numpy as np\n",
    "import MinuitFit as MiF"
   ]
  },
  {
   "cell_type": "code",
   "execution_count": null,
   "metadata": {},
   "outputs": [],
   "source": [
    "def fitfunc_pse(x,a,b,C):\n",
    "    y=C*pow(10,-a*x/20.)+b\n",
    "    return y\n",
    "\n",
    "def fitfunc_thin(x,a,b,C):\n",
    "    #y=3650*pow(10,-a*x/20.)/pow(10,-4./20)+b\n",
    "    #y=C*pow(10,-a*x/20.)/pow(10,-4./20.)+b\n",
    "    y=C*pow(10,-a*x/20.)+b\n",
    "    return y\n",
    "\n",
    "def calc_amp(A,dA,B,dB):\n",
    "    amp=A/B\n",
    "    damp=np.sqrt((dA/B)**2+(A/(B*B)*dB)**2)\n",
    "    print(\"amp={},damp={}\".format(amp,damp))\n",
    "    return amp,damp"
   ]
  },
  {
   "cell_type": "code",
   "execution_count": null,
   "metadata": {},
   "outputs": [],
   "source": [
    "data_thick=np.loadtxt(\"Linearity_thick.csv\",delimiter=',',skiprows=0)\n",
    "thick=np.array([0.,1.,2.,3.,4.,5.,6.,7.,8.,9.,10.,11.,12.,16.])\n",
    "EP_thick=data_thick[:,1]\n",
    "EP_thick_err=data_thick[:,2]\n",
    "\n",
    "data_thin=np.loadtxt(\"Linearity_thin.csv\",delimiter=',',skiprows=0)\n",
    "thin=np.array([4.,5.,6.,7.,8.,9.,10.,11.,12.,16.])\n",
    "EP_thin=data_thin[:,1]\n",
    "EP_thin_err=data_thin[:,2]"
   ]
  },
  {
   "cell_type": "code",
   "execution_count": null,
   "metadata": {},
   "outputs": [],
   "source": [
    "ax=plt.subplot()\n",
    "plt.errorbar(thick,EP_thick,yerr=EP_thick_err,fmt='o',label='thick',color='b')\n",
    "plt.errorbar(thin,EP_thin,yerr=EP_thin_err,fmt='o',label='thin',color='r')\n",
    "MiF.Setup(thick,EP_thick,0,EP_thick_err,fitfunc_pse,ax)\n",
    "#  MiF.SetRange(0,12)\n",
    "result1=MiF.chisquare(0.1,1000.,4000)\n",
    "zero1=result1[4]+result1[2]\n",
    "dzero1=np.sqrt(result1[5]**2+result1[3]**2+(result1[4]*(-1*result1[0]/20)*np.log(10)*result1[1])**2)"
   ]
  },
  {
   "cell_type": "code",
   "execution_count": null,
   "metadata": {},
   "outputs": [],
   "source": [
    "MiF.Setup(thin,EP_thin,0,EP_thin_err,fitfunc_thin,ax)\n",
    "result2=MiF.chisquare(0.1,1000.,4000)\n",
    "zero2=result2[4]+result2[2]\n",
    "dzero2=np.sqrt(result2[5]**2+result2[3]**2+(result2[4]*(-1*result2[0]/20)*np.log(10)*result2[1])**2)\n",
    "print(\"zero2={}+-{}\".format(zero2,dzero2))"
   ]
  },
  {
   "cell_type": "code",
   "execution_count": null,
   "metadata": {},
   "outputs": [],
   "source": [
    "amp1,damp1=calc_amp(EP_thick[0],EP_thick_err[0],EP_thick[4],EP_thick_err[4])\n",
    "#amp2=calc_amp(zero1,dzero1,EP_thick[4],EP_thick_err[4])\n",
    "amp3,damp3=calc_amp(zero2,dzero2,EP_thin[0],EP_thin_err[0])\n",
    "ave_amp=(amp1+amp3)/2\n",
    "sigma_amp=np.sqrt((damp1**2+damp3**2)/4)\n",
    "print(\"amp={}+-{}\".format(ave_amp,sigma_amp))\n",
    "plt.title(\"Attenuator Linearity\")\n",
    "plt.xlabel(u'Attenuate [-db]')\n",
    "plt.ylabel(u'Channel')\n",
    "plt.ylim([0,4096])\n",
    "plt.legend(bbox_to_anchor=(1,0.7),loc='right')\n",
    "plt.show(block=False)"
   ]
  },
  {
   "cell_type": "code",
   "execution_count": null,
   "metadata": {},
   "outputs": [],
   "source": []
  }
 ],
 "metadata": {
  "kernelspec": {
   "display_name": "Python 3",
   "language": "python",
   "name": "python3"
  },
  "language_info": {
   "codemirror_mode": {
    "name": "ipython",
    "version": 3
   },
   "file_extension": ".py",
   "mimetype": "text/x-python",
   "name": "python",
   "nbconvert_exporter": "python",
   "pygments_lexer": "ipython3",
   "version": "3.6.5"
  }
 },
 "nbformat": 4,
 "nbformat_minor": 2
}
